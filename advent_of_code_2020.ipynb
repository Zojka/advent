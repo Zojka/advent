{
 "cells": [
  {
   "cell_type": "markdown",
   "metadata": {},
   "source": [
    "# Day 1"
   ]
  },
  {
   "cell_type": "code",
   "execution_count": 2,
   "metadata": {},
   "outputs": [],
   "source": [
    "inpt = \"input\"\n"
   ]
  },
  {
   "cell_type": "code",
   "execution_count": 9,
   "metadata": {},
   "outputs": [],
   "source": [
    "def read_input(inpt):\n",
    "    with open(inpt, 'r') as f:\n",
    "        data = f.readlines()\n",
    "        list_num = []\n",
    "        for line in data:\n",
    "            num = int(line.strip())\n",
    "            list_num.append(num)\n",
    "    return sorted(list_num)"
   ]
  },
  {
   "cell_type": "code",
   "execution_count": 10,
   "metadata": {},
   "outputs": [],
   "source": [
    "list_num = read_input(inpt)"
   ]
  },
  {
   "cell_type": "code",
   "execution_count": 17,
   "metadata": {},
   "outputs": [],
   "source": [
    "def find_two(list_num, su=2020):\n",
    "    \"\"\"Find two numbers that sum to 2020 and multiply them\"\"\"\n",
    "    for i in range(len(list_num)):\n",
    "        for j in range(len(list_num)):\n",
    "            if i != j:\n",
    "                if list_num[i] + list_num[j] == su:\n",
    "                    print(list_num[i], list_num[j])\n",
    "                    return list_num[i]*list_num[j]"
   ]
  },
  {
   "cell_type": "code",
   "execution_count": 18,
   "metadata": {},
   "outputs": [
    {
     "name": "stdout",
     "output_type": "stream",
     "text": [
      "788 1232\n",
      "970816\n"
     ]
    }
   ],
   "source": [
    "print(find_two(list_num))"
   ]
  },
  {
   "cell_type": "code",
   "execution_count": 21,
   "metadata": {},
   "outputs": [],
   "source": [
    "def find_three(list_num, su=2020):\n",
    "    \"\"\"Find three numbers that sum to 2020 and multiply them\"\"\"\n",
    "    for i in range(len(list_num)):\n",
    "        for j in range(len(list_num)):\n",
    "            for k in range(len(list_num)):\n",
    "                if i != j and j != k and j != i:\n",
    "                    if list_num[i] + list_num[j] + list_num[k] == su:\n",
    "                        print(list_num[i], list_num[j], list_num[k])\n",
    "                        return list_num[i]*list_num[j]*list_num[k]"
   ]
  },
  {
   "cell_type": "code",
   "execution_count": 22,
   "metadata": {},
   "outputs": [
    {
     "name": "stdout",
     "output_type": "stream",
     "text": [
      "105 912 1003\n",
      "96047280\n"
     ]
    }
   ],
   "source": [
    "print(find_three(list_num))"
   ]
  },
  {
   "cell_type": "markdown",
   "metadata": {},
   "source": [
    "# Day two"
   ]
  },
  {
   "cell_type": "code",
   "execution_count": 1,
   "metadata": {},
   "outputs": [],
   "source": [
    "example_input = \"input1_example\""
   ]
  },
  {
   "cell_type": "code",
   "execution_count": 18,
   "metadata": {},
   "outputs": [],
   "source": [
    "def read_input_2(infile):\n",
    "    codes = []\n",
    "    with open(infile, 'r') as f:\n",
    "        data = f.readlines()\n",
    "        for line in data:\n",
    "            splitted = line.strip().split()\n",
    "            mini = int(splitted[0].split('-')[0])\n",
    "            maxi = int(splitted[0].split('-')[1])\n",
    "            letter = splitted[1].strip(':')\n",
    "            code = splitted[-1]\n",
    "            codes.append([mini, maxi, letter, code])\n",
    "    return codes"
   ]
  },
  {
   "cell_type": "code",
   "execution_count": 19,
   "metadata": {},
   "outputs": [],
   "source": [
    "codes_list = read_input_2(example_input)"
   ]
  },
  {
   "cell_type": "code",
   "execution_count": 38,
   "metadata": {},
   "outputs": [],
   "source": [
    "def find_valid_codes(codes_list):\n",
    "    occurences = 0\n",
    "    for code in codes_list:\n",
    "        counted = code[3].count(code[2])\n",
    "        if counted in range(code[0], code[1] + 1):\n",
    "            occurences += 1\n",
    "    return occurences"
   ]
  },
  {
   "cell_type": "code",
   "execution_count": 39,
   "metadata": {},
   "outputs": [
    {
     "data": {
      "text/plain": [
       "2"
      ]
     },
     "execution_count": 39,
     "metadata": {},
     "output_type": "execute_result"
    }
   ],
   "source": [
    "find_valid_codes(codes_list)"
   ]
  },
  {
   "cell_type": "code",
   "execution_count": 42,
   "metadata": {},
   "outputs": [
    {
     "data": {
      "text/plain": [
       "378"
      ]
     },
     "execution_count": 42,
     "metadata": {},
     "output_type": "execute_result"
    }
   ],
   "source": [
    "inp = \"input_day2\"\n",
    "codes_list2 = read_input_2(inp)\n",
    "find_valid_codes(codes_list2)"
   ]
  },
  {
   "cell_type": "code",
   "execution_count": 58,
   "metadata": {},
   "outputs": [],
   "source": [
    "def find_valid_codes_part2(codes_list):\n",
    "    occurences = 0\n",
    "    for code in codes_list:\n",
    "        first = code[3][code[0] - 1]\n",
    "        second = code[3][code[1]- 1]\n",
    "        if first == code[2] and second == code[2]:\n",
    "            continue\n",
    "        elif first == code[2] or second == code[2]:\n",
    "            occurences += 1\n",
    "    return occurences"
   ]
  },
  {
   "cell_type": "code",
   "execution_count": 60,
   "metadata": {},
   "outputs": [
    {
     "data": {
      "text/plain": [
       "280"
      ]
     },
     "execution_count": 60,
     "metadata": {},
     "output_type": "execute_result"
    }
   ],
   "source": [
    "find_valid_codes_part2(codes_list2)"
   ]
  },
  {
   "cell_type": "code",
   "execution_count": null,
   "metadata": {},
   "outputs": [],
   "source": []
  }
 ],
 "metadata": {
  "kernelspec": {
   "display_name": "Python 3",
   "language": "python",
   "name": "python3"
  },
  "language_info": {
   "codemirror_mode": {
    "name": "ipython",
    "version": 3
   },
   "file_extension": ".py",
   "mimetype": "text/x-python",
   "name": "python",
   "nbconvert_exporter": "python",
   "pygments_lexer": "ipython3",
   "version": "3.6.9"
  }
 },
 "nbformat": 4,
 "nbformat_minor": 2
}
